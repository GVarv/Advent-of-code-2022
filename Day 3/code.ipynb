{
 "cells": [
  {
   "cell_type": "markdown",
   "metadata": {},
   "source": [
    "--- Day 3: Rucksack Reorganization ---\n",
    "\n",
    "One Elf has the important job of loading all of the rucksacks with supplies for the jungle journey. Unfortunately, that Elf didn't quite follow the packing instructions, and so a few items now need to be rearranged.\n",
    "\n",
    "Each rucksack has two large compartments. All items of a given type are meant to go into exactly one of the two compartments. The Elf that did the packing failed to follow this rule for exactly one item type per rucksack.\n",
    "\n",
    "The Elves have made a list of all of the items currently in each rucksack (your puzzle input), but they need your help finding the errors. Every item type is identified by a single lowercase or uppercase letter (that is, a and A refer to different types of items).\n",
    "\n",
    "The list of items for each rucksack is given as characters all on a single line. A given rucksack always has the same number of items in each of its two compartments, so the first half of the characters represent items in the first compartment, while the second half of the characters represent items in the second compartment.\n",
    "\n",
    "For example, suppose you have the following list of contents from six rucksacks:\n",
    "\n",
    "vJrwpWtwJgWrhcsFMMfFFhFp\n",
    "jqHRNqRjqzjGDLGLrsFMfFZSrLrFZsSL\n",
    "PmmdzqPrVvPwwTWBwg\n",
    "wMqvLMZHhHMvwLHjbvcjnnSBnvTQFn\n",
    "ttgJtRGJQctTZtZT\n",
    "CrZsJsPPZsGzwwsLwLmpwMDw\n",
    "\n",
    "\n",
    "The first rucksack contains the items vJrwpWtwJgWrhcsFMMfFFhFp, which means its first compartment contains the items vJrwpWtwJgWr, while the second compartment contains the items hcsFMMfFFhFp. The only item type that appears in both compartments is lowercase p.\n",
    "The second rucksack's compartments contain jqHRNqRjqzjGDLGL and rsFMfFZSrLrFZsSL. The only item type that appears in both compartments is uppercase L.\n",
    "The third rucksack's compartments contain PmmdzqPrV and vPwwTWBwg; the only common item type is uppercase P.\n",
    "The fourth rucksack's compartments only share item type v.\n",
    "The fifth rucksack's compartments only share item type t.\n",
    "The sixth rucksack's compartments only share item type s.\n",
    "To help prioritize item rearrangement, every item type can be converted to a priority:\n",
    "\n",
    "Lowercase item types a through z have priorities 1 through 26.\n",
    "Uppercase item types A through Z have priorities 27 through 52.\n",
    "In the above example, the priority of the item type that appears in both compartments of each rucksack is 16 (p), 38 (L), 42 (P), 22 (v), 20 (t), and 19 (s); the sum of these is 157.\n",
    "\n",
    "Find the item type that appears in both compartments of each rucksack. What is the sum of the priorities of those item types?"
   ]
  },
  {
   "cell_type": "code",
   "execution_count": 1,
   "metadata": {},
   "outputs": [],
   "source": [
    "with open(\"input3.txt\") as f:\n",
    "    text = f.read()\n",
    "#print(text)"
   ]
  },
  {
   "cell_type": "code",
   "execution_count": 2,
   "metadata": {},
   "outputs": [
    {
     "name": "stdout",
     "output_type": "stream",
     "text": [
      "['pqgZZSZgcZJqpzBbqTbbLjBDBLhB', 'wHptFFsHttHFLMDQDFTbbj', 'fVfvsstwPHwNwfNGfHWRSnlpClcJzCWCzddSrddg', 'bdgHbZJHgMHgJgJctDtVssVcpFtq', 'rNNQqBSzTcBPTDsP', 'GWNNrhGnNnWNzRfnRQRbhCdqHMbdmbZddbmCmd', 'BSBDzrSwrqccDDwbfcBjsRwggClslTRWGWGMFlsF', 'dnhVhLJtzNZdgCRlsTGWCRJG', 'ZHZdNzptLNtPhPdnprPbbDBrSqrSQPjbqD', 'rlSwlrGvwTTSwSggCJGQJdhVgJGQ', 'jcrHrMWfNHNzQgVH', 'WbfjmBMrBrrmLtqMbwwsPTvPpwvBPFPsws', 'NRNcHzbzbMRcNPjPrrlBPlbtBl', 'CZwVCCpWggqprwtlHlssHtPr', 'WpmLghCVCqCnmVTLnccRQvvQQHDhNQzzzc', 'NvGTmNGDJsrCmCWPHpCP', 'nqfVfnFQnZQfFqzMZBPtppcBPPCBptcrbF', 'fhRSSVfqMZZhMnQfjVzShNNlLvldsNDdvvljGpllDT', 'JGRNWRGJbGmCGRbLmGpqShhcQpQgCcncScSQ', 'FFdtjvvpvVFnQhhnQhgf', 'ltvjjtjHlzBtWRmNPLZRHLpH', 'FFCJFsvgLsjLgWzJFWJgGwBDbwnbwlDddqffnjnlnd', 'pTpTMQpMZHQhZQpHPZMmTMlwhDNNddbnDqdDwwlbVNVd', 'SHpmrHPZHQpmvFrqsFvgCsRq', 'TtWpWhQlVZrVptJhtrtdbLPDPbjFbCCWCvFFbLSN', 'zMGlnlsgSSvjjGSF', 'msznlgcwMnRwznmBqTZQJrddhfQJtBJtZQ', 'mwTwLftmqqSHWfCfLHjWftBthNNNVrlcFRVNrNrRTrMgrRNg', 'pvJPJQPGPPzbpVpVlMBVchFl', 'bzQPQbQQdsDZPDGJnBGnPGnjHDttqqqqmCjftLCmWmfftC', 'ZNpfdHcccTfdwfMFNjBttMgMbBnvlvjBmB', 'QVPsGzhbszRLRrgvtgjWgljlRtgt', 'VJrVLsSrzLzGPChVGzbrrfpTSHFfDDHSdpZFfHpDTZ', 'NPpvDbmbsmdbNvQvDdWQpmWSnnQCLBnCcQSCnnLlwCBlZz', 'jggrtGTFhtGfjhDVjrjgMftFwnZcwwBCnzzVwBBwSZcVwLSw', 'JfHftHhgftgFJWPdPDWRPDvPJv', 'ZSLLZJGglDSVNDGGGgGgngGmHrfLzmHvvjfjwLhHvLfHHr', 'QqFWszFMTQFdFPMqBmWBHvfhCwCjhHff', 'pTsdppTMPtqqdbnlNVzJVbSSnbZR', 'gBqDccrrJDwmpTWHHTdWMPWWZFHF', 'RNfnfSwRjlLSWjQMHWvQZtvH', 'GRLbnzNnzVRLCqhwzwBmJrmc', 'CcGnZGnGlRncsspmFmmcmGRJJzCDTzjLBSDfqjwDDzDLDB', 'hHrNdPWhrbPdhPgVWvvrgWdfwjfNzSqfqjLqzfBTzJzJTz', 'HHQhhvMWbbdRswmlsmwsQc', 'rrwhpZPrccRpQdcFDJNqhtqtqMLhqfMh', 'lTtTllgbzTlJsmDMvbLbsf', 'VVWBTgzlzgGnngrtQRQRtCtwZRQB', 'HGnGvVdLhlFcmvPWmT', 'jwBLqZgjrtjqmFsQTscPQs', 'ZBNZtwLwztLpMrfZBLMdbdnfSRVVfnGbnfDVGh', 'LmBBBzQrBgBhmmggmtdVdhJNMHNdhsHNDd', 'ScSZbRplCcMnSpvCfCCZcpPwtJPNtHPHNVVNtPddwlNH', 'CpvpZGfnffSpnvRSSbcfScQBWrMWmjrmFFBzTGQWjMmL', 'sljSjSgsjcCLllsjVgSjCtspQwvNNhdFwFQvwpbtmhwhpN', 'hDqqWzGRHHfRrJnrWrfWfHBdFmBFmBbdBGBpwmFdFpww', 'TDnDHZrWWHhTjPClClSP', 'wGNQGQDGjqqmwHHs', 'MWvvrzgfsdWsvMrSdqJqcpgHgnqLFLnjpH', 'fvsPMsPdrTZhChNDhbhPVN', 'sbMgDDtttVvpMtcJsgcGGBBfGLBSLclQTGPS', 'CWHWzhhRRHjqRmSGPfBSzJfSBnBB', 'HjjRHWFWhRRwHNmCCRHhhFdNDNrdptMstJvsbMDtVptd', 'RnSwRsLsnSswjDDDBJPrJv', 'cpzCzlczHTJVQhvBQlDVDj', 'WmGzqTmHSsffqqnJ', 'vQSPHMwpmpQMLGfTPVLRPRVP', 'hsWhnncsJqbGjGfcfBMMRR', 'sqdNWqqghbsJslgsJqgWllMWDppSvNCHQHDSSHrHrHCSvvCQ', 'ZWWnWMmmndQZmffcdZcmssQqrsptVwwTtQHTCTHH', 'SvvrPzvvFDzGzTszpGGwHT', 'vrRLjjrPhLjrjPDSfdcMZnmdcmJcfcRf', 'HpqWhDJjzmcTSbmMBVBb', 'nCzfLtFnZZrcbcVVfTBfsc', 'FtRFzgrRtnRzrFwzDjljpjgHNJDlNlhN', 'gtNRRSSrRmjshHmm', 'PQDMwPwMppcQQcvCFlhLhGmjflctlnHGjf', 'QwDMFFdtwFDQJZZZNqSqJSqBgBqTNJNg', 'cddzbbzQflTDcDfRbcfbJVsplVsChNghHNsSsVpn', 'FBWFWjFFCjWPBSPPJsVpppPSVH', 'CrCwvjWvmqmvrBvFwZRGQQDDcGTcfbddZdRc', 'ZBQqdGLFmmzDmTZz', 'PvrVMvGgWmwSmllglS', 'NrfGnvWWPhfpspsGvLJBsFBbqJCbdQcLBq', 'DrwTrlfGThhQTpDdWSWgdgwLLgBSZH', 'bqbPRVRmzJCLWSgCzCLH', 'jRtbNVtNjNqRqsJtbjbMDQHQGlchfQpfsTcHpGHr', 'tMnRcnpDcZtpQDSCCsGGHvcGPGqGsr', 'mzJmjWJNlbfmbhzVCCPmZrCZqPGCgZ', 'JWhzjJBdWnMLZtSBTw', 'tvdLttzvtHLztnQpssdTPbMqbqMTdTss', 'jhSRGNjjSjhSDCNhRgRgclNjmfZTPnbTMqJJfqqsbMflTfMs', 'WnCjcjDRCChSNSCNDjNhGVDtQvVLHzFrpFwFrHFQQwQpzp', 'fLbLLLLQhVPhBVmDwmCfwsdwwDps', 'GNtctFTSrrJqGGpHFcTJFTwsslwmlmWsdsqRRCmqwdWs', 'ppctFTTSgHcSrGrrTGFcrrnhhQbPLbQZgzLvQQVVvZvLhv', 'mBBWnnBbBCtssmRThRDllR', 'wfwFQcpHFpddFrwpGcHSHdcjQZZlqqDTTjZqssRhWllssj', 'dWfrcSGFpgrSzFgMbCPNPLtCtVMV', 'llLlGLJJMjJMGVSvVMSLRRHvjCZtgZccttnmbCtdCcmCCztn', 'sBQNqPhsrrqrrwrsppsHswsZcmnNCzdZtbgntcNgcctnCt', 'WWFBBsPwpWPwBBHpFFrWGRMRLlJfJVMJRJLWSJ', 'vgMvQnPMntnSQPSgMvSMpNJfJDNNRpfZmGQmbDND', 'HlbjHHBLjCHGZGpfJLpfwm', 'qdHWqBbbbjrTzdqFqssvtPMSSFFg', 'TGDfDHSgtTzPPbnCtnNtVn', 'WQrWMFpMWMQbCVNPRWVWWv', 'pdpMMrhrprQshlMFjZpdjZMgmlGJJGlGDBmgmHgmJCSBHG', 'zWWBjZZjWPFFPPnBCVdsqmnCdSLn', 'rJvpbvbpGgTGrNJGGpRRhsCqSsLhnsmTVnSLTLHh', 'gNNNJDbpvGNfvNSDPPWQWWPZZWtjlQfc', 'RRVbWWWvvZVWmsFSsDNbHsDSsg', 'CrTwJQJpJpCCwvlJQTTPsfzDgfwNhszfszFhzFDh', 'ttQJtvjpPvcqTllJTPtPRGMGRGLWdVZLVZjWdMjj', 'NnPCTQWMMQNNNWwWnMzpHczzsZcCscddHdGs', 'mqRgqqVlLgqmfVzcGpzzSHGZcgcz', 'tjmZjZmhqftlJRJhlTMPTPQbrPBBWnhnnT', 'hvTQqpvTqjvhpjnCqmCnSDSFDWFFLSSSWDnSVL', 'tZwGgsfPcltgcZltRgNSDSSSSldmWMLWFVHd', 'GrZtwRPbGwwPcGRsZGtRtgQJJhCjpzmTBTvJzJrjvzQp', 'rwmwqDWwfDtztnFGBB', 'LPdpdVcdPGvPVgZsPtlhTTtthHBhHF', 'dRdCjvpCRpjvCMZgvLgRVJJSWMqmbwQJbMWGWQNbbQ', 'CMCcMcDGzBGPmBmznTNbnGbrswNTwTvN', 'SSHVWZphqWWJJzNsbnFwFVNjbz', 'flLQqHzzgtQdcDRB', 'mdzvFtllBgFttGnvfMwMVRRZCThSNZVhMd', 'pDTrDHjWWJPqjDjDSMqNwSZRZhNSRNCZ', 'jpcTpQPWLLpDTLcTrPjPDcjzzFLFzvgLzlzfvGFgfmgFzF', 'fQVVPzBpFVVrtrsJ', 'PldSLNSmWwMCcCMMcCNN', 'mSPlldllmPdRnLRwmbnLwmwvTjBTghTHQjfgjpZHpfHHfZbZ', 'pmfMcfprMqMrZZJcMZMGWTsFCVCTVPPsVTWCGPDP', 'vrvvvLRbBNNBbvBbjBHbQhgDslPTWsPTlFDsFTFwTWlDVQ', 'hgjznNBjHHgrhRHgrRLRnRfSSJmdqMfffzqJptdmmmdd', 'nRnPlCRPWPMFqwPLwq', 'tBGfbSbHtBVQgrbrqfTFFLvTNLLNGTGMLdws', 'bgHVtBDtqnqqlJRD', 'SdSJrHssFBSVsNtMMdRWnTRhRl', 'vcvfDvgvcwvFRlbnwWRlMhtn', 'DDDqcqFZQPgcgcfvDjLDfVrsSVrHBLJVpLpCSppGpS', 'gJGTFLTdrpLdBcWBvnllvlMvMC', 'RRqbbQhwNZZwQRPrSZWnvHSZWSvSZC', 'fQDNRsrsQzfbDrbsqwdtpgJVjdJdpVfJFLFF', 'DzWqFvqpqFSCSzGRGmwfntGjmR', 'cbhZNJQBtgMHJbJcNcrmfhrRrswmfRwnVrhG', 'bJNgbNdJBBPMHbcMNMWWvSFpDLFvCStqpLdv', 'sLsHTsTbRLRwqssHwHjFrPDwJDppzFDJmmcrPJ', 'BnZGBlMZnQSgSnvVSMmJzPDCzFcrLPPJmpDG', 'BgBffVLhQLgvnBRRssfqdfHbHdNT', 'HRPVmjqBqVjVRRPmcPmJjbDgLDDshbfRLlfbfLbhlL', 'rtTzSMSMFpTzfgDzzgsLfLHZ', 'rNpGpSSHwMTrrdHGNtTPmVjnGGjVjmBGmmBjJB', 'DBqDQDQHSFlHsFnN', 'MfLfwwLMWGLrWMMnpSlsnGJJlbFVjV', 'gRhMZzhrFLWQvTPqTPcvvh', 'NwwsHwtnFCtzcPdbvrQbBqclQq', 'VmZLLTLfVpwMBrVVqqMM', 'mgJDjTgWgLWDppJZJTWZmSRzCtRHhGGwHNzshGFFCSRt', 'RGCCDRdFZdRCMzzGCDGCmGHMfqbNNNLQLfFqnnqnNQqVPnQn', 'glgcrwrJjJccBwdSfnSnVqrqQVVnNq', 'jvtBsjstgstjltBcWzTGGddHTWDTZCmDGm', 'HJHGZZHnctSSDhZtmZ', 'MjjQFSvQlRjSdRqdqvVSqCCPtpRpPPDfDmfPbbpphC', 'SNsWqMNvFFqdqVMgwwBHrGHnHgcWTJ', 'jBcbjSmSBbbCcPcMjmbzFPhDMDfrfGRhGQRMnGQfdrDh', 'wHlqwlqpwZqcwVlqHtJVJLTdhndTDnhffftTGDTTDdTG', 'JNllcwpZZlpZJjNzSzSCNjSmFN', 'FhwRPzmPWmQQmwFPGGMGGRPnRHHVfDbvJlvDlHSvDTDfVHbD', 'NpjcpCdqpZZvwvJVfDdDHT', 'twZtqrBrBQBMBPGn', 'fBFGjbLLFblmbWFmVfBvrvMdMdncnrdNbdQNTr', 'shZHHRZhtsqJZhHhgZzgJzVJrrSSvrMdMQrNTvMNJQNrdn', 'szHwgtHtwPzPLpVFpVPLlfLC', 'mrsrtrWjljjjvwwgNnZfDHJDqTqrHL', 'FccMPFQcpczpdMPhMqJngNfqfnFgDnnFfg', 'BdMpdcDPcpjBmlBmVWts', 'VvwTTlfVlblwwSsbfTdzVqjhzVjpjjqjqpzV', 'rwCWFGmJrNCmMRHmwRFPmHQQhBLBzdLqBjhLBHZdQB', 'rFwDrMNRJDJFPRmCvcTcbDsvstTgfTsg', 'zhRzdRRChHCFGPDRvWRWvWvHpZpscrrmrZrJcmspJmJZFfpM', 'wQqLtQLtnjbjVnVjbBgjbBnbMZMZJlVpZfJprsMprmGZZZml', 'jQjjNBLLwjtQBtwwdGGDCHhNzzWDzTPD', 'DzzQnCMMznFnCdnFFlHtlmhVRtmVVmVhSF', 'PWrPPRTfLJJtfbtBfV', 'wsrggZsTwTTWGvDppQMRjjMCjMZp', 'fTjzZVTlbffCMvjgMpSFWBNBWSFsvBsNNccF', 'nJdwdPRQqGqbGJQbmmQQhRSBBBSsPPHWNSWFBtDNBsHH', 'nnQhwwQGdLqqwnZbpfjMfzpzLbLj', 'jgTgCwgjMgGLhvRrHrHwhvhV', 'bqSsSsZFZBlFsBlTSppVvVvnVHHvHnhp', 'qFlbPbFFsWFsBlFWbsbsmzTcMjLmtfcCmcWtgzgm', 'rrHbfBLbfMcghcmrcCzg', 'RDStDtvdZRQdJSQWWWdvFSgNvVcnghhmnnzhVPhczPch', 'ZtJpJttSZStwtttFDQmLGTlqMLqGfwTTGLfTGG', 'MrfLWwfBwgghvLmNvmHHHGGQHQSSscscVvTV', 'dDjZjDPJtFRzjdTTsqVjTpqHsGrT', 'JbFtlbPRJCzffBrgnlMWmg', 'ZFsbbVLLdZppLFpcJjCCQJlGcQCMZq', 'TwRtRBdBClCTGlcJ', 'rwBvBzDvwNNDHLHzfHssdHhS', 'gdhgftTNGTbpqJqjjgRJ', 'lcBcMLFzMzLFMzFzPjRBQjQPQpSqhpbp', 'mzzmZHZZnZwLhtGfddVsNCCnGG', 'lblbPGSGrTLRwqZLvP', 'FffCCFzFCWzzvmjRJnRTnZZNJCTqCR', 'gdhztVjhHMsGvrGVVB', 'ZJZjJGHZhDJRFJHjDZjhPNFgFmrnVmgVVzVBscnzSg', 'bwlWtMwtbqdCvlQCplmsqgnVVScnVgmnmzNs', 'WMWltTtvvCdwCCRPPfTHGcJDfGZL', 'svqQJLvSSZrZZZCFCBDPDCMTDpPwMWDPCwRw', 'GnlnGbdldjhzzhpPDTWjmtMwPmWW', 'HzVbGnnbchblbnbzcQTZBZrQrFSHvLBBJv', 'MmgMmVpcRDlvbvpHJF', 'GSGTLTwhwwhzQqTqwjFlbdvdbrlrbrrDnDvHlQ', 'zLNNNtwGFCMsWsCWNR', 'tSTDDDftSqSsTDnTtCWNrbFsNJJvbzJbvJ', 'dhRdVHdMGRgPJbjNPbzgvr', 'VllQmQdhRHLhhHmLlGzSqSQDDcDBnnBnqDfSct', 'zBzJWZBLZNNGLsbTvLbmbT', 'QdtQwfdnPdPTbsRQGhRvbl', 'pgtPgPjVDnpVnDtPTFFrJJTBCcpcrpCW', 'GnWMfBfdCGMbjRNpnzvvNLRNVv', 'FShJDJJscwwszNjvNjNNqZ', 'tJmccwlcFlFcHlPcHFfdrbBGBGfjCGTfBCPf', 'GhlcQsZNQZWhpcGhwlPmqnnqnjJjLRnqzJsJLJ', 'VTMtTtDTbvbMTfvdJqngjmqzdjmJjCLm', 'vHtbHTDBFvffBPGwLLZBQNNl', 'bDphJrpbpnBbDrdBvJdDFBMtMlfgtsFSstfGPPgggPGP', 'RZmNjTZQNVHQHNGSgMsfPlShSs', 'VmchTLZQLjVLjmTVmQVhTmwVrWJqbDqddBrpnWbvnqrqcnJB', 'jWWgThWtgSvSSWlJtlShllPcHVnJHPbMHPcPVPbVZrHM', 'fGdfRsRdNwfRQhnpcZdVhVpbPh', 'fGhwNBqNjqStFqtj', 'TSTBrSDlQlTDrrQclrBSLffPvcfcdVjVMGGPLjLL', 'qnbnbngFGhhhPfjjVffjff', 'RRWbmgpnmqlrCwwSrwmG', 'mZZTsdBZVZBZLVHdFmsNnCrCVQQbWvWjWNCnbg', 'QSffDGwGGrPGWrgN', 'hflwzltflDpMpDSllcMDhSShdsdZQdLZZdHTssZzmqLzFmLB', 'LLRJRshLfsJfWnLBTlTBlFzNrnrBBl', 'qmmVwmdHqmqGHZdHbbqSScdZQTjjpTFFVBBrlDrzDFBTjFjF', 'wZZwmcbvHgqTmGccmvdCLhCPJsJCPWgMLPtJsJ', 'TWbbbNbJJjJbqTjtJJjTQCtnGSBndMGCcSZSQwCB', 'mcfRfrcmrDRrPsdQSGZQGnsSQMnB', 'DDRLDRDFPpgmpcgPghpfgvRTjbhTVjHljJjzlVzVTlbHll', 'rPlPrPllBGgJgdJfHgfjJt', 'pppZVfFDWssMfFVVFMpsMMVmHCRLdcZCRtvLRdCtCJdHRttH', 'mDMfDFDmnMMmsMFznDFpzswbNbPGwwSGBrGrhrTzThSl', 'qDNFfCCNWLfWWhqhDGPMMZVwgpCpMbJwJCvV', 'RdstRRvdtmtPVpppVbVtrp', 'zzncSRdsTdQTczQBsLvvHNhDWGjDHNLDSG', 'bNNpcfJcCtNpHFsJsGGjLGzmLjLmGzlFGW', 'qwqZdnQnQwnhhzmnMWjmNlMzLr', 'qhwwQSwStJbHNftS', 'WlfWSwDftzRltBWVlRDlsmBJPcsZPmcJnmPmFhrn', 'dLQbQbvGTddTvbjQCbLbhmCrZZPPsshPPPrJZrnF', 'QgFjQHHbMvdRMVllSqfSlf', 'MDPJBWWPggVlPVDMSljdZNNpwjwbHZpNbDdH', 'mGmzcThGrtntHhthzGctRbNRNwRNzZwfdZpjpdRj', 'ThtcvvtThFcnqFQSHgBSVJll', 'hVqhFLBngHVFtJjtLCBJVSbbPNNbSmfLLTSNSrrLTb', 'vsdZZpvQdczlMdMvzlcvvdQprbGGTfSbWmzPTgmmGTbmmfGP', 'vgRZZMgwdgsQZdMBqVhjhJqBhJtRhq', 'bgFQbMMbTbQhghddFTFGnmSmsNdzHvzSSzlcHsls', 'fZDjVtfZLqwpqtCfCjCjlvqScrvzqHSzszzSnczr', 'jpftjCfWCjCfCRZZlpCpjRWQBRTQQbgBBTMbghgbbPGJBJ', 'VZZrbBVwbbbVVvgbntnggNRJqRRNNccMcNqJcJ', 'jfDPfDdGGhDGfGFPCcZQqMpRNJhqTcMc', 'LPfffPHGPDjPFGWSdHPFjWtlBlwvlwBlbtmLltsmvtZb', 'TTfJDfrJTSrHMcVMJDTfMcMDBQBPwnPlznPszFVBFgzFgnsn', 'CqtmWNNGBPzwbbwm', 'htdCthhWGtWWGNZqcZpJjwwHHHMcHZDM', 'VvjQjQCZLbbSbTPpSHtFzsHzppMfzz', 'DJrJWBcDcWJWmmcgGRGRGWGDzHHwzdfRHpMztMpfdFdFdzdM', 'DmBgGDqJNhGcccWmcZLjTPLVLTQhPtvvTZ', 'qfhvwNDQqwDGdGZZGwPTTw', 'STsJgsRtJMZPjlsmdpbs', 'SCTTHTWHNVfHQqqq', 'djCDgllgjJjDRRNgRlDdBgtpQHfhQTrLLrGBtzrQhpBH', 'SVcsMGcPSbqSPmLTPHHQTHrftPTr', 'VcWnsScqSScWcZbMMcSVGbNNlgDRlgCCNgwWvvRJdNdj', 'mgPllfRgvNmPGQGGsmQNWlpFtnBPFShncTFShtFShnjS', 'tLLzMJJwwbbdrrMLqLVJMzVZFnpTTFpnCSSpShCjBJhpThph', 'HMdVwbbLMbDMDVlmDsgtNtNRfgsm', 'hNsgsgzNZRghPhZBdssPQfzDmQSmmzQGJWzfCDJJ', 'bblVHvvHHTljwFCfGrvmfmmJBmGQ', 'THMMFVwqTPRdZptMBP', 'QvcPGSvQLjmcQWSGWWGjLCNhhqpCdBCNCbJNdVWpCh', 'rwtLlzZggLHnHlwHRDdVqBbCdqqVVhbqVnVh', 'zRDzwRrwlRlRTgrDtllmQGLcPjGLccFmTcGSQc', 'RWlgQlbcWBwzsJggTfhh', 'GrnLjHLjmLjjGSLjSDmfJJpfThhfSWJPqJqhwz', 'vLvDDnDNrCVjCmNDbFlBVZdVRQlRbWcb', 'mTlwFngwmlLlvsmLHmHsLJhJFfcbdpbNcjCNCbpccb', 'tZRzBRzBBRQzPqGRqrVQtjjfbCMcfMfCMMjVjfCJNd', 'SDBBPtZZTdnnwSvg', 'nddNNMMPNBnBNnBTQSShlSHghlDHBr', 'VcccVmqJsJsjlTmzTDggmHHT', 'VqLtFCqFJfVtVjsNgPNNMMWNwgtNvn', '']\n"
     ]
    }
   ],
   "source": [
    "tex=text.split(\"\\n\")\n",
    "print(tex)"
   ]
  },
  {
   "cell_type": "code",
   "execution_count": 3,
   "metadata": {},
   "outputs": [],
   "source": [
    "while(\"\" in tex):\n",
    "    tex.remove(\"\")\n",
    "#print(tex)"
   ]
  },
  {
   "cell_type": "code",
   "execution_count": 4,
   "metadata": {},
   "outputs": [
    {
     "name": "stdout",
     "output_type": "stream",
     "text": [
      "['vJrwpWtwJgWrhcsFMMfFFhFp', 'jqHRNqRjqzjGDLGLrsFMfFZSrLrFZsSL', 'PmmdzqPrVvPwwTWBwg', 'wMqvLMZHhHMvwLHjbvcjnnSBnvTQFn', 'ttgJtRGJQctTZtZT', 'CrZsJsPPZsGzwwsLwLmpwMDw']\n"
     ]
    }
   ],
   "source": [
    "tries = ['vJrwpWtwJgWrhcsFMMfFFhFp', 'jqHRNqRjqzjGDLGLrsFMfFZSrLrFZsSL', 'PmmdzqPrVvPwwTWBwg', 'wMqvLMZHhHMvwLHjbvcjnnSBnvTQFn', 'ttgJtRGJQctTZtZT', 'CrZsJsPPZsGzwwsLwLmpwMDw'] # desired output\n",
    "print(tries)"
   ]
  },
  {
   "cell_type": "code",
   "execution_count": 5,
   "metadata": {},
   "outputs": [],
   "source": [
    "def find_common(row):\n",
    "    p1=row[:len(row)//2]\n",
    "    p2=row[len(row)//2:]\n",
    "    a=list(set(p1)&set(p2))\n",
    "    return a"
   ]
  },
  {
   "cell_type": "code",
   "execution_count": 6,
   "metadata": {},
   "outputs": [],
   "source": [
    "common=list(map(find_common, tex))"
   ]
  },
  {
   "cell_type": "code",
   "execution_count": 7,
   "metadata": {},
   "outputs": [],
   "source": [
    "#print(common)"
   ]
  },
  {
   "cell_type": "code",
   "execution_count": 8,
   "metadata": {},
   "outputs": [],
   "source": [
    "def letter_to_int(letter):\n",
    "    alphabet = list('abcdefghijklmnopqrstuvwxyzABCDEFGHIJKLMNOPQRSTUVWXYZ')\n",
    "    return alphabet.index(letter) + 1"
   ]
  },
  {
   "cell_type": "code",
   "execution_count": 9,
   "metadata": {},
   "outputs": [],
   "source": [
    "import itertools\n",
    "#list2d = [[1,2,3], [4,5,6], [7], [8,9]]\n",
    "common_flat = list(itertools.chain(*common))"
   ]
  },
  {
   "cell_type": "code",
   "execution_count": 10,
   "metadata": {},
   "outputs": [],
   "source": [
    "MAX_CHAR = 26*2\n",
    " \n",
    "def commonCharacters(strings, n) :\n",
    "     \n",
    "    # primary array for common characters\n",
    "    # we assume all characters are seen before.\n",
    "    prim = [True] * MAX_CHAR\n",
    "    sec = list([0] * MAX_CHAR)\n",
    "    #print(type(sec))\n",
    "    # for each strings\n",
    "    for i in range(n):\n",
    "         \n",
    "        # secondary array for common characters\n",
    "        # Initially marked false\n",
    "        #sec=list(sec)\n",
    "        #print(type(sec))\n",
    "        \n",
    " \n",
    "        # for every character of ith strings\n",
    "        set_string=\"\".join(set(strings[i]))\n",
    "        #print(set_string)\n",
    "        for j in range(len(set_string)):\n",
    "            #print(i,j)\n",
    "            #print(set_string[j],letter_to_int(set_string[j]))\n",
    " \n",
    "            # if character is present in all\n",
    "            # strings before, mark it.\n",
    "            #print(prim[letter_to_int(set_string[j])-1])\n",
    "            if (prim[letter_to_int(set_string[j])-1]) :\n",
    "                #print(letter_to_int(set_string[j])-1)\n",
    "                #print(sec[letter_to_int(set_string[j])-1])\n",
    "                sec[letter_to_int(set_string[j])-1] +=1\n",
    "                \n",
    "        #print(sec)\n",
    "        #sec=list(map(lambda x: x + 1, sec))\n",
    " \n",
    "        badge= [i for i,v in enumerate(sec) if v>=3]\n",
    "        badge=list(map(lambda x: x + 1, badge))\n",
    "    return badge"
   ]
  },
  {
   "cell_type": "code",
   "execution_count": 11,
   "metadata": {},
   "outputs": [],
   "source": [
    "composite_list = [tex[x:x+3] for x in range(0, len(tex),3)]"
   ]
  },
  {
   "cell_type": "code",
   "execution_count": 12,
   "metadata": {
    "scrolled": true
   },
   "outputs": [],
   "source": [
    "#composite_list"
   ]
  },
  {
   "cell_type": "code",
   "execution_count": 13,
   "metadata": {},
   "outputs": [],
   "source": [
    "badge_value=0\n",
    "for lis in composite_list:\n",
    "    res = commonCharacters(lis,len(lis))\n",
    "    badge_value=badge_value+res[0]"
   ]
  },
  {
   "cell_type": "code",
   "execution_count": 14,
   "metadata": {},
   "outputs": [
    {
     "data": {
      "text/plain": [
       "2587"
      ]
     },
     "execution_count": 14,
     "metadata": {},
     "output_type": "execute_result"
    }
   ],
   "source": [
    "badge_value"
   ]
  },
  {
   "cell_type": "code",
   "execution_count": null,
   "metadata": {},
   "outputs": [],
   "source": []
  }
 ],
 "metadata": {
  "kernelspec": {
   "display_name": "Python 3",
   "language": "python",
   "name": "python3"
  },
  "language_info": {
   "codemirror_mode": {
    "name": "ipython",
    "version": 3
   },
   "file_extension": ".py",
   "mimetype": "text/x-python",
   "name": "python",
   "nbconvert_exporter": "python",
   "pygments_lexer": "ipython3",
   "version": "3.7.6"
  }
 },
 "nbformat": 4,
 "nbformat_minor": 4
}
