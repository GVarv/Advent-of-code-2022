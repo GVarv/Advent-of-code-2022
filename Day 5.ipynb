{
 "cells": [
  {
   "cell_type": "markdown",
   "metadata": {},
   "source": [
    "--- Day 5: Supply Stacks ---\n",
    "\n",
    "The expedition can depart as soon as the final supplies have been unloaded from the ships. Supplies are stored in stacks of marked crates, but because the needed supplies are buried under many other crates, the crates need to be rearranged.\n",
    "\n",
    "The ship has a giant cargo crane capable of moving crates between stacks. To ensure none of the crates get crushed or fall over, the crane operator will rearrange them in a series of carefully-planned steps. After the crates are rearranged, the desired crates will be at the top of each stack.\n",
    "\n",
    "The Elves don't want to interrupt the crane operator during this delicate procedure, but they forgot to ask her which crate will end up where, and they want to be ready to unload them as soon as possible so they can embark.\n",
    "\n",
    "They do, however, have a drawing of the starting stacks of crates and the rearrangement procedure (your puzzle input). For example:\n",
    "\n",
    "    [D]    \n",
    "[N] [C]    \n",
    "[Z] [M] [P]\n",
    " 1   2   3 \n",
    "\n",
    "move 1 from 2 to 1\n",
    "move 3 from 1 to 3\n",
    "move 2 from 2 to 1\n",
    "move 1 from 1 to 2\n",
    "In this example, there are three stacks of crates. Stack 1 contains two crates: crate Z is on the bottom, and crate N is on top. Stack 2 contains three crates; from bottom to top, they are crates M, C, and D. Finally, stack 3 contains a single crate, P.\n",
    "\n",
    "Then, the rearrangement procedure is given. In each step of the procedure, a quantity of crates is moved from one stack to a different stack. In the first step of the above rearrangement procedure, one crate is moved from stack 2 to stack 1, resulting in this configuration:\n",
    "\n",
    "[D]        \n",
    "[N] [C]    \n",
    "[Z] [M] [P]\n",
    " 1   2   3 \n",
    "In the second step, three crates are moved from stack 1 to stack 3. Crates are moved one at a time, so the first crate to be moved (D) ends up below the second and third crates:\n",
    "\n",
    "        [Z]\n",
    "        [N]\n",
    "    [C] [D]\n",
    "    [M] [P]\n",
    " 1   2   3\n",
    "Then, both crates are moved from stack 2 to stack 1. Again, because crates are moved one at a time, crate C ends up below crate M:\n",
    "\n",
    "        [Z]\n",
    "        [N]\n",
    "[M]     [D]\n",
    "[C]     [P]\n",
    " 1   2   3\n",
    "Finally, one crate is moved from stack 1 to stack 2:\n",
    "\n",
    "        [Z]\n",
    "        [N]\n",
    "        [D]\n",
    "[C] [M] [P]\n",
    " 1   2   3\n",
    "The Elves just need to know which crate will end up on top of each stack; in this example, the top crates are C in stack 1, M in stack 2, and Z in stack 3, so you should combine these together and give the Elves the message CMZ.\n",
    "\n",
    "After the rearrangement procedure completes, what crate ends up on top of each stack?"
   ]
  },
  {
   "cell_type": "code",
   "execution_count": 403,
   "metadata": {},
   "outputs": [],
   "source": [
    "with open(\"C:\\\\Users\\\\giugi\\\\OneDrive\\\\Documenti\\\\Documents\\\\Università\\\\Magistrale\\\\Helsinki burocracy\\\\Kela\\\\input5.txt\") as f:\n",
    "    text = f.read()"
   ]
  },
  {
   "cell_type": "code",
   "execution_count": 404,
   "metadata": {},
   "outputs": [],
   "source": [
    "#print(text)"
   ]
  },
  {
   "cell_type": "code",
   "execution_count": 405,
   "metadata": {},
   "outputs": [],
   "source": [
    "AD5=text.split(\"\\n\\n\")\n",
    "\n",
    "AD5_2=list(map(str.splitlines, AD5))\n",
    "instructions=AD5_2[1]\n",
    "crates=AD5_2[0]"
   ]
  },
  {
   "cell_type": "code",
   "execution_count": 406,
   "metadata": {},
   "outputs": [
    {
     "name": "stdout",
     "output_type": "stream",
     "text": [
      "['                [B] [L]     [J]    ', '            [B] [Q] [R]     [D] [T]', '            [G] [H] [H] [M] [N] [F]', '        [J] [N] [D] [F] [J] [H] [B]', '    [Q] [F] [W] [S] [V] [N] [F] [N]', '[W] [N] [H] [M] [L] [B] [R] [T] [Q]', '[L] [T] [C] [R] [R] [J] [W] [Z] [L]', '[S] [J] [S] [T] [T] [M] [D] [B] [H]', ' 1   2   3   4   5   6   7   8   9 ']\n",
      "9\n"
     ]
    }
   ],
   "source": [
    "print(crates)\n",
    "n=crates[-1][-2]\n",
    "print(n)"
   ]
  },
  {
   "cell_type": "markdown",
   "metadata": {},
   "source": [
    "$i^{th}$ column is in item [(i-1)*4]+1"
   ]
  },
  {
   "cell_type": "code",
   "execution_count": 407,
   "metadata": {},
   "outputs": [
    {
     "name": "stdout",
     "output_type": "stream",
     "text": [
      "9\n"
     ]
    }
   ],
   "source": [
    "n=int(n)\n",
    "print(n)"
   ]
  },
  {
   "cell_type": "code",
   "execution_count": 408,
   "metadata": {},
   "outputs": [
    {
     "name": "stdout",
     "output_type": "stream",
     "text": [
      "['                [B] [L]     [J]    ', '            [B] [Q] [R]     [D] [T]', '            [G] [H] [H] [M] [N] [F]', '        [J] [N] [D] [F] [J] [H] [B]', '    [Q] [F] [W] [S] [V] [N] [F] [N]', '[W] [N] [H] [M] [L] [B] [R] [T] [Q]', '[L] [T] [C] [R] [R] [J] [W] [Z] [L]', '[S] [J] [S] [T] [T] [M] [D] [B] [H]']\n"
     ]
    }
   ],
   "source": [
    "del crates[-1]\n",
    "print(crates)"
   ]
  },
  {
   "cell_type": "code",
   "execution_count": 409,
   "metadata": {
    "scrolled": true
   },
   "outputs": [
    {
     "name": "stdout",
     "output_type": "stream",
     "text": [
      "[['W', 'L', 'S'], ['Q', 'N', 'T', 'J'], ['J', 'F', 'H', 'C', 'S'], ['B', 'G', 'N', 'W', 'M', 'R', 'T'], ['B', 'Q', 'H', 'D', 'S', 'L', 'R', 'T'], ['L', 'R', 'H', 'F', 'V', 'B', 'J', 'M'], ['M', 'J', 'N', 'R', 'W', 'D'], ['J', 'D', 'N', 'H', 'F', 'T', 'Z', 'B'], ['T', 'F', 'B', 'N', 'Q', 'L', 'H']]\n",
      "[['S', 'L', 'W'], ['J', 'T', 'N', 'Q'], ['S', 'C', 'H', 'F', 'J'], ['T', 'R', 'M', 'W', 'N', 'G', 'B'], ['T', 'R', 'L', 'S', 'D', 'H', 'Q', 'B'], ['M', 'J', 'B', 'V', 'F', 'H', 'R', 'L'], ['D', 'W', 'R', 'N', 'J', 'M'], ['B', 'Z', 'T', 'F', 'H', 'N', 'D', 'J'], ['H', 'L', 'Q', 'N', 'B', 'F', 'T']]\n"
     ]
    }
   ],
   "source": [
    "new_crates=[]\n",
    "for j in range(n):\n",
    "    new_crates.append([])\n",
    "\n",
    "    \n",
    "for el in crates:\n",
    "    for i in range(n):\n",
    "        #move=[]\n",
    "        letters=el[(((i)*4)+1)]\n",
    "        if(letters!=\" \"):\n",
    "            new_crates[i].append(letters)\n",
    "        \n",
    "    #new_list.append(letters)\n",
    "print(new_crates)\n",
    "\n",
    "for el in new_crates:\n",
    "    el.reverse()\n",
    "print(new_crates)"
   ]
  },
  {
   "cell_type": "code",
   "execution_count": 410,
   "metadata": {},
   "outputs": [],
   "source": [
    "moving=[]\n",
    "for el in instructions:\n",
    "    m=el.split(\"move \")[1]\n",
    "    move=m[:m.index(\" \")]\n",
    "    move=int(move)\n",
    "    moving.append(move)\n",
    "#print(moving)\n",
    "    \n",
    "from_where=[]\n",
    "for el in instructions:\n",
    "    m=el.split(\"from \")[1]\n",
    "    move=m[:m.index(\" \")]\n",
    "    move=int(move)\n",
    "    from_where.append(move)\n",
    "#print(from_where)\n",
    "\n",
    "to_where=[]\n",
    "for el in instructions:\n",
    "    m=el.split(\"to \")[1]\n",
    "    #move=m[:m.index(\" \")]\n",
    "    move=int(m)\n",
    "    to_where.append(move)\n",
    "#print(to_where)"
   ]
  },
  {
   "cell_type": "code",
   "execution_count": 411,
   "metadata": {},
   "outputs": [
    {
     "name": "stdout",
     "output_type": "stream",
     "text": [
      "[['S', 'L', 'W'], ['J', 'T', 'N', 'Q'], ['S', 'C', 'H', 'F', 'J'], ['T', 'R', 'M', 'W', 'N', 'G', 'B'], ['T', 'R', 'L', 'S', 'D', 'H', 'Q', 'B'], ['M', 'J', 'B', 'V', 'F', 'H', 'R', 'L'], ['D', 'W', 'R', 'N', 'J', 'M'], ['B', 'Z', 'T', 'F', 'H', 'N', 'D', 'J'], ['H', 'L', 'Q', 'N', 'B', 'F', 'T']]\n",
      "[['S', 'L', 'W'], ['J', 'T', 'N', 'Q'], ['S', 'C', 'H', 'F', 'J'], ['T', 'R', 'M', 'W', 'N', 'G', 'B'], ['T', 'R', 'L', 'S', 'D', 'H', 'Q', 'B'], ['M', 'J', 'B', 'V', 'F', 'H', 'R', 'L'], ['D', 'W', 'R', 'N', 'J', 'M'], ['B', 'Z', 'T', 'F', 'H', 'N', 'D', 'J'], ['H', 'L', 'Q', 'N', 'B', 'F', 'T']]\n"
     ]
    }
   ],
   "source": [
    "from copy import deepcopy\n",
    "n2=len(moving)\n",
    "print(new_crates)\n",
    "old_crates=deepcopy(new_crates)\n",
    "print(old_crates)"
   ]
  },
  {
   "cell_type": "code",
   "execution_count": 412,
   "metadata": {},
   "outputs": [],
   "source": [
    "for i in range(n2):\n",
    "    many=int(moving[i])\n",
    "    f=int(from_where[i])\n",
    "    t=int(to_where[i])\n",
    "    for j in range(many):\n",
    "        #Take the last one and put it in the lats space\n",
    "        mov=old_crates[f-1][-1]\n",
    "        old_crates[f-1].pop()\n",
    "        old_crates[t-1].append(mov)\n",
    "    "
   ]
  },
  {
   "cell_type": "code",
   "execution_count": 413,
   "metadata": {},
   "outputs": [
    {
     "data": {
      "text/plain": [
       "[['W', 'H', 'B', 'R'],\n",
       " ['D',\n",
       "  'J',\n",
       "  'N',\n",
       "  'J',\n",
       "  'T',\n",
       "  'R',\n",
       "  'S',\n",
       "  'Q',\n",
       "  'D',\n",
       "  'W',\n",
       "  'N',\n",
       "  'N',\n",
       "  'B',\n",
       "  'W',\n",
       "  'J',\n",
       "  'J',\n",
       "  'G',\n",
       "  'L'],\n",
       " ['V', 'Q', 'M', 'B', 'J', 'R', 'Z', 'M', 'L', 'C', 'Q', 'F'],\n",
       " ['L', 'T', 'M', 'N'],\n",
       " ['B', 'S', 'T', 'R'],\n",
       " ['F', 'T'],\n",
       " ['H', 'N'],\n",
       " ['T', 'H', 'L', 'D', 'H', 'F', 'S', 'F'],\n",
       " ['H', 'B']]"
      ]
     },
     "execution_count": 413,
     "metadata": {},
     "output_type": "execute_result"
    }
   ],
   "source": [
    "old_crates"
   ]
  },
  {
   "cell_type": "code",
   "execution_count": 414,
   "metadata": {},
   "outputs": [
    {
     "name": "stdout",
     "output_type": "stream",
     "text": [
      "[['S', 'L', 'W'], ['J', 'T', 'N', 'Q'], ['S', 'C', 'H', 'F', 'J'], ['T', 'R', 'M', 'W', 'N', 'G', 'B'], ['T', 'R', 'L', 'S', 'D', 'H', 'Q', 'B'], ['M', 'J', 'B', 'V', 'F', 'H', 'R', 'L'], ['D', 'W', 'R', 'N', 'J', 'M'], ['B', 'Z', 'T', 'F', 'H', 'N', 'D', 'J'], ['H', 'L', 'Q', 'N', 'B', 'F', 'T']]\n",
      "[['W', 'H', 'B', 'R'], ['D', 'J', 'N', 'J', 'T', 'R', 'S', 'Q', 'D', 'W', 'N', 'N', 'B', 'W', 'J', 'J', 'G', 'L'], ['V', 'Q', 'M', 'B', 'J', 'R', 'Z', 'M', 'L', 'C', 'Q', 'F'], ['L', 'T', 'M', 'N'], ['B', 'S', 'T', 'R'], ['F', 'T'], ['H', 'N'], ['T', 'H', 'L', 'D', 'H', 'F', 'S', 'F'], ['H', 'B']]\n"
     ]
    }
   ],
   "source": [
    "print(new_crates)\n",
    "print(old_crates)"
   ]
  },
  {
   "cell_type": "code",
   "execution_count": 415,
   "metadata": {},
   "outputs": [
    {
     "name": "stdout",
     "output_type": "stream",
     "text": [
      "['R', 'L', 'F', 'N', 'R', 'T', 'N', 'F', 'B']\n"
     ]
    }
   ],
   "source": [
    "results=[]\n",
    "for el in old_crates:\n",
    "    results.append(el[-1])\n",
    "print(results)"
   ]
  },
  {
   "cell_type": "code",
   "execution_count": 416,
   "metadata": {},
   "outputs": [
    {
     "data": {
      "text/plain": [
       "'RLFNRTNFB'"
      ]
     },
     "execution_count": 416,
     "metadata": {},
     "output_type": "execute_result"
    }
   ],
   "source": [
    "\"\".join(results)"
   ]
  },
  {
   "cell_type": "code",
   "execution_count": 417,
   "metadata": {},
   "outputs": [
    {
     "name": "stdout",
     "output_type": "stream",
     "text": [
      "[['S', 'L', 'W'], ['J', 'T', 'N', 'Q'], ['S', 'C', 'H', 'F', 'J'], ['T', 'R', 'M', 'W', 'N', 'G', 'B'], ['T', 'R', 'L', 'S', 'D', 'H', 'Q', 'B'], ['M', 'J', 'B', 'V', 'F', 'H', 'R', 'L'], ['D', 'W', 'R', 'N', 'J', 'M'], ['B', 'Z', 'T', 'F', 'H', 'N', 'D', 'J'], ['H', 'L', 'Q', 'N', 'B', 'F', 'T']]\n"
     ]
    }
   ],
   "source": [
    "old_crates=deepcopy(new_crates)\n",
    "print(old_crates)\n"
   ]
  },
  {
   "cell_type": "code",
   "execution_count": 418,
   "metadata": {},
   "outputs": [],
   "source": [
    "for i in range(n2):\n",
    "    many=int(moving[i])\n",
    "    #print(many)\n",
    "    f=int(from_where[i])\n",
    "    #print(f)\n",
    "    t=int(to_where[i])\n",
    "    #print(t)\n",
    "    #Take the last one and put it in the lats space\n",
    "    #print(old_crates[f-1])\n",
    "    mov=old_crates[f-1][-many:].copy()\n",
    "    #print(mov)\n",
    "    del old_crates[f-1][-many:]\n",
    "    #print(old_crates[t-1])\n",
    "    old_crates[t-1]=old_crates[t-1]+mov\n",
    "   "
   ]
  },
  {
   "cell_type": "code",
   "execution_count": 419,
   "metadata": {},
   "outputs": [
    {
     "data": {
      "text/plain": [
       "[['V', 'H', 'L', 'M'],\n",
       " ['N',\n",
       "  'M',\n",
       "  'M',\n",
       "  'S',\n",
       "  'W',\n",
       "  'D',\n",
       "  'R',\n",
       "  'L',\n",
       "  'W',\n",
       "  'J',\n",
       "  'N',\n",
       "  'S',\n",
       "  'R',\n",
       "  'B',\n",
       "  'N',\n",
       "  'G',\n",
       "  'R',\n",
       "  'H'],\n",
       " ['N', 'B', 'T', 'Q', 'F', 'T', 'T', 'D', 'Q', 'J', 'J', 'Q'],\n",
       " ['F', 'B', 'N', 'T'],\n",
       " ['S', 'B', 'D', 'L'],\n",
       " ['F', 'J'],\n",
       " ['H', 'R'],\n",
       " ['T', 'F', 'Z', 'H', 'W', 'H', 'J', 'L'],\n",
       " ['C', 'B']]"
      ]
     },
     "execution_count": 419,
     "metadata": {},
     "output_type": "execute_result"
    }
   ],
   "source": [
    "old_crates"
   ]
  },
  {
   "cell_type": "code",
   "execution_count": 420,
   "metadata": {},
   "outputs": [
    {
     "name": "stdout",
     "output_type": "stream",
     "text": [
      "['M', 'H', 'Q', 'T', 'L', 'J', 'R', 'L', 'B']\n"
     ]
    }
   ],
   "source": [
    "results=[]\n",
    "for el in old_crates:\n",
    "    results.append(el[-1])\n",
    "print(results)"
   ]
  },
  {
   "cell_type": "code",
   "execution_count": 421,
   "metadata": {},
   "outputs": [
    {
     "data": {
      "text/plain": [
       "'MHQTLJRLB'"
      ]
     },
     "execution_count": 421,
     "metadata": {},
     "output_type": "execute_result"
    }
   ],
   "source": [
    "\"\".join(results)"
   ]
  },
  {
   "cell_type": "code",
   "execution_count": null,
   "metadata": {},
   "outputs": [],
   "source": []
  }
 ],
 "metadata": {
  "kernelspec": {
   "display_name": "Python 3",
   "language": "python",
   "name": "python3"
  },
  "language_info": {
   "codemirror_mode": {
    "name": "ipython",
    "version": 3
   },
   "file_extension": ".py",
   "mimetype": "text/x-python",
   "name": "python",
   "nbconvert_exporter": "python",
   "pygments_lexer": "ipython3",
   "version": "3.7.6"
  }
 },
 "nbformat": 4,
 "nbformat_minor": 4
}
