{
 "cells": [
  {
   "cell_type": "markdown",
   "metadata": {},
   "source": [
    "--- Day 8: Treetop Tree House ---\n",
    "\n",
    "\n",
    "The expedition comes across a peculiar patch of tall trees all planted carefully in a grid. The Elves explain that a previous expedition planted these trees as a reforestation effort. Now, they're curious if this would be a good location for a tree house.\n",
    "\n",
    "First, determine whether there is enough tree cover here to keep a tree house hidden. To do this, you need to count the number of trees that are visible from outside the grid when looking directly along a row or column.\n",
    "\n",
    "The Elves have already launched a quadcopter to generate a map with the height of each tree (your puzzle input). For example:\n",
    "\n",
    "30373\n",
    "25512\n",
    "65332\n",
    "33549\n",
    "35390\n",
    "Each tree is represented as a single digit whose value is its height, where 0 is the shortest and 9 is the tallest.\n",
    "\n",
    "A tree is visible if all of the other trees between it and an edge of the grid are shorter than it. Only consider trees in the same row or column; that is, only look up, down, left, or right from any given tree.\n",
    "\n",
    "All of the trees around the edge of the grid are visible - since they are already on the edge, there are no trees to block the view. In this example, that only leaves the interior nine trees to consider:\n",
    "\n",
    "The top-left 5 is visible from the left and top. (It isn't visible from the right or bottom since other trees of height 5 are in the way.)\n",
    "The top-middle 5 is visible from the top and right.\n",
    "The top-right 1 is not visible from any direction; for it to be visible, there would need to only be trees of height 0 between it and an edge.\n",
    "The left-middle 5 is visible, but only from the right.\n",
    "The center 3 is not visible from any direction; for it to be visible, there would need to be only trees of at most height 2 between it and an edge.\n",
    "The right-middle 3 is visible from the right.\n",
    "In the bottom row, the middle 5 is visible, but the 3 and 4 are not.\n",
    "With 16 trees visible on the edge and another 5 visible in the interior, a total of 21 trees are visible in this arrangement.\n",
    "\n",
    "Consider your map; how many trees are visible from outside the grid?"
   ]
  },
  {
   "cell_type": "code",
   "execution_count": 71,
   "metadata": {},
   "outputs": [],
   "source": [
    "with open(\"input8.txt\") as f:\n",
    "    text = f.read()\n",
    "#print(text)"
   ]
  },
  {
   "cell_type": "code",
   "execution_count": 72,
   "metadata": {},
   "outputs": [],
   "source": [
    "data = text.splitlines()\n",
    "data2=[list(x) for x in data]\n",
    "data2_int=[[int(float(j)) for j in i] for i in data2]"
   ]
  },
  {
   "cell_type": "code",
   "execution_count": 73,
   "metadata": {},
   "outputs": [
    {
     "name": "stdout",
     "output_type": "stream",
     "text": [
      "[[0 1 2 ... 2 0 2]\n",
      " [1 0 2 ... 0 2 1]\n",
      " [2 2 2 ... 2 0 1]\n",
      " ...\n",
      " [0 0 1 ... 0 2 1]\n",
      " [2 1 2 ... 2 1 2]\n",
      " [1 1 0 ... 0 1 0]]\n"
     ]
    }
   ],
   "source": [
    "#print(len(data2_int))\n",
    "import numpy as np\n",
    "forest=np.array(data2_int)\n",
    "print(forest)"
   ]
  },
  {
   "cell_type": "code",
   "execution_count": 100,
   "metadata": {},
   "outputs": [],
   "source": [
    "def visible(i,j, forest):\n",
    "    if(i==0 or j==0 or i==forest.shape[0] or j==forest.shape[1]):\n",
    "        #print(\"Tree visible\")\n",
    "        return True\n",
    "    if((forest[i,j]>forest[:i,j]).all() or (forest[i,j]>forest[(i+1):,j]).all() or (forest[i,j]>forest[i,:j]).all() or (forest[i,j]>forest[i,(j+1):]).all()):\n",
    "        #print(\"Tree visible\")\n",
    "        return True"
   ]
  },
  {
   "cell_type": "code",
   "execution_count": 101,
   "metadata": {},
   "outputs": [
    {
     "name": "stdout",
     "output_type": "stream",
     "text": [
      "[[3 0 3 7 3]\n",
      " [2 5 5 1 2]\n",
      " [6 5 3 3 2]\n",
      " [3 3 5 4 9]\n",
      " [3 5 3 9 0]]\n"
     ]
    }
   ],
   "source": [
    "trials=np.array([[3,0,3,7,3],[2,5,5,1,2],[6,5,3,3,2],[3,3,5,4,9],[3,5,3,9,0]],ndmin=2)\n",
    "print(trials)"
   ]
  },
  {
   "cell_type": "code",
   "execution_count": 102,
   "metadata": {},
   "outputs": [
    {
     "name": "stdout",
     "output_type": "stream",
     "text": [
      "99 99\n"
     ]
    },
    {
     "data": {
      "text/plain": [
       "1825"
      ]
     },
     "execution_count": 102,
     "metadata": {},
     "output_type": "execute_result"
    }
   ],
   "source": [
    "rows=forest.shape[0]\n",
    "columns=forest.shape[1]\n",
    "print(columns, rows)\n",
    "vis_trees=0\n",
    "for i in range(rows):\n",
    "    for j in range(columns):\n",
    "        #print(i,j)\n",
    "        if(visible(i,j, forest)):\n",
    "            vis_trees+=1\n",
    "vis_trees"
   ]
  },
  {
   "cell_type": "code",
   "execution_count": 104,
   "metadata": {},
   "outputs": [
    {
     "data": {
      "text/plain": [
       "21"
      ]
     },
     "execution_count": 104,
     "metadata": {},
     "output_type": "execute_result"
    }
   ],
   "source": [
    "vis_trees=0\n",
    "rows=trials.shape[0]\n",
    "columns=trials.shape[1]\n",
    "for i in range(rows):\n",
    "    for j in range(columns):\n",
    "        if(visible(i,j, trials)):\n",
    "            vis_trees+=1\n",
    "\n",
    "vis_trees"
   ]
  },
  {
   "cell_type": "markdown",
   "metadata": {},
   "source": [
    "--- Part Two ---\n",
    "\n",
    "\n",
    "Content with the amount of tree cover available, the Elves just need to know the best spot to build their tree house: they would like to be able to see a lot of trees.\n",
    "\n",
    "To measure the viewing distance from a given tree, look up, down, left, and right from that tree; stop if you reach an edge or at the first tree that is the same height or taller than the tree under consideration. (If a tree is right on the edge, at least one of its viewing distances will be zero.)\n",
    "\n",
    "The Elves don't care about distant trees taller than those found by the rules above; the proposed tree house has large eaves to keep it dry, so they wouldn't be able to see higher than the tree house anyway.\n",
    "\n",
    "In the example above, consider the middle 5 in the second row:\n",
    "\n",
    "30373\n",
    "25512\n",
    "65332\n",
    "33549\n",
    "35390\n",
    "Looking up, its view is not blocked; it can see 1 tree (of height 3).\n",
    "Looking left, its view is blocked immediately; it can see only 1 tree (of height 5, right next to it).\n",
    "Looking right, its view is not blocked; it can see 2 trees.\n",
    "Looking down, its view is blocked eventually; it can see 2 trees (one of height 3, then the tree of height 5 that blocks its view).\n",
    "A tree's scenic score is found by multiplying together its viewing distance in each of the four directions. For this tree, this is 4 (found by multiplying 1 * 1 * 2 * 2).\n",
    "\n",
    "However, you can do even better: consider the tree of height 5 in the middle of the fourth row:\n",
    "\n",
    "30373\n",
    "25512\n",
    "65332\n",
    "33549\n",
    "35390\n",
    "Looking up, its view is blocked at 2 trees (by another tree with a height of 5).\n",
    "Looking left, its view is not blocked; it can see 2 trees.\n",
    "Looking down, its view is also not blocked; it can see 1 tree.\n",
    "Looking right, its view is blocked at 2 trees (by a massive tree of height 9).\n",
    "This tree's scenic score is 8 (2 * 2 * 1 * 2); this is the ideal spot for the tree house.\n",
    "\n",
    "Consider each tree on your map. What is the highest scenic score possible for any tree?"
   ]
  },
  {
   "cell_type": "code",
   "execution_count": 246,
   "metadata": {},
   "outputs": [
    {
     "data": {
      "text/plain": [
       "array([[3, 0, 3, 7, 3],\n",
       "       [2, 5, 5, 1, 2],\n",
       "       [6, 5, 3, 3, 2],\n",
       "       [3, 3, 5, 4, 9],\n",
       "       [3, 5, 3, 9, 0]])"
      ]
     },
     "execution_count": 246,
     "metadata": {},
     "output_type": "execute_result"
    }
   ],
   "source": [
    "trials"
   ]
  },
  {
   "cell_type": "code",
   "execution_count": 251,
   "metadata": {},
   "outputs": [],
   "source": [
    "def viewing_score(i,j, forest):\n",
    "    left=0\n",
    "    right=0\n",
    "    up=0\n",
    "    down=0\n",
    "    #if(forest.shape[1]>j):\n",
    "     #   right+=1\n",
    "    #if(j>0):\n",
    "     #   left+=1\n",
    "    #if(forest.shape[0]>i):\n",
    "     #   down+=1\n",
    "    #if(i>0):\n",
    "     #   up+=1\n",
    "    #print(up,left,down,right)\n",
    "   \n",
    "    for i2 in reversed(range(i)):\n",
    "        #print(\"\\n\\n\",i2)\n",
    "        if(forest[i2,j]<forest[i,j]):\n",
    "            up+=1\n",
    "        else:\n",
    "            #print(left)\n",
    "            up+=1\n",
    "            break\n",
    "    for i3 in range(i+1,forest.shape[0]):\n",
    "        #print(\"\\n\",i3)\n",
    "        if(forest[i3,j]<forest[i,j]):\n",
    "            down+=1\n",
    "        else:\n",
    "            #print(right)\n",
    "            down+=1\n",
    "            break\n",
    "    for j2 in reversed(range(0,j)):\n",
    "        #print(\"\\n\",j2)\n",
    "        if(forest[i,j2]<forest[i,j]):\n",
    "            #print(\"\\n\",i,j2)\n",
    "            #print(forest[i,j2])\n",
    "            left+=1\n",
    "        else:\n",
    "            left+=1\n",
    "            #print(up)\n",
    "            break\n",
    "    for j3 in range(j+1,forest.shape[1]):\n",
    "        #print(\"\\n\",j3)\n",
    "        if(forest[i,j3]<forest[i,j]):\n",
    "            right+=1\n",
    "        else:\n",
    "            #print(down)\n",
    "            right+=1\n",
    "            break\n",
    "    #print(up,left,down,right)\n",
    "    score=right*left*up*down        \n",
    "    #print(score)\n",
    "    return score"
   ]
  },
  {
   "cell_type": "code",
   "execution_count": 252,
   "metadata": {},
   "outputs": [
    {
     "data": {
      "text/plain": [
       "8"
      ]
     },
     "execution_count": 252,
     "metadata": {},
     "output_type": "execute_result"
    }
   ],
   "source": [
    "viewing_score(3,2,trials)"
   ]
  },
  {
   "cell_type": "code",
   "execution_count": 253,
   "metadata": {},
   "outputs": [
    {
     "data": {
      "text/plain": [
       "array([[3, 0, 3, 7, 3],\n",
       "       [2, 5, 5, 1, 2],\n",
       "       [6, 5, 3, 3, 2],\n",
       "       [3, 3, 5, 4, 9],\n",
       "       [3, 5, 3, 9, 0]])"
      ]
     },
     "execution_count": 253,
     "metadata": {},
     "output_type": "execute_result"
    }
   ],
   "source": [
    "trials"
   ]
  },
  {
   "cell_type": "code",
   "execution_count": 256,
   "metadata": {},
   "outputs": [
    {
     "data": {
      "text/plain": [
       "array([[0, 0, 0, 0, 0],\n",
       "       [0, 1, 4, 1, 0],\n",
       "       [0, 6, 1, 2, 0],\n",
       "       [0, 1, 8, 3, 0],\n",
       "       [0, 0, 0, 0, 0]])"
      ]
     },
     "execution_count": 256,
     "metadata": {},
     "output_type": "execute_result"
    }
   ],
   "source": [
    "#vis_trees=0\n",
    "tree_score=np.zeros([rows, columns], dtype=int)\n",
    "rows=trials.shape[0]\n",
    "columns=trials.shape[1]\n",
    "for i in range(rows):\n",
    "    for j in range(columns):\n",
    "        tree_score[i,j]=viewing_score(i,j,trials)\n",
    "        \n",
    "\n",
    "tree_score"
   ]
  },
  {
   "cell_type": "code",
   "execution_count": 257,
   "metadata": {},
   "outputs": [
    {
     "data": {
      "text/plain": [
       "8"
      ]
     },
     "execution_count": 257,
     "metadata": {},
     "output_type": "execute_result"
    }
   ],
   "source": [
    "np.amax(tree_score)"
   ]
  },
  {
   "cell_type": "code",
   "execution_count": 259,
   "metadata": {},
   "outputs": [
    {
     "data": {
      "text/plain": [
       "array([[ 0,  0,  0, ...,  0,  0,  0],\n",
       "       [ 0,  1, 14, ...,  1,  8,  0],\n",
       "       [ 0, 12, 12, ...,  8,  1,  0],\n",
       "       ...,\n",
       "       [ 0,  1,  2, ...,  1,  8,  0],\n",
       "       [ 0,  3,  8, ...,  8,  1,  0],\n",
       "       [ 0,  0,  0, ...,  0,  0,  0]])"
      ]
     },
     "execution_count": 259,
     "metadata": {},
     "output_type": "execute_result"
    }
   ],
   "source": [
    "#vis_trees=0\n",
    "rows=forest.shape[0]\n",
    "columns=forest.shape[1]\n",
    "tree_score=np.zeros([rows, columns], dtype=int)\n",
    "\n",
    "for i in range(rows):\n",
    "    for j in range(columns):\n",
    "        tree_score[i,j]=viewing_score(i,j,forest)\n",
    "        \n",
    "\n",
    "tree_score"
   ]
  },
  {
   "cell_type": "code",
   "execution_count": 260,
   "metadata": {},
   "outputs": [
    {
     "data": {
      "text/plain": [
       "235200"
      ]
     },
     "execution_count": 260,
     "metadata": {},
     "output_type": "execute_result"
    }
   ],
   "source": [
    "np.amax(tree_score)"
   ]
  },
  {
   "cell_type": "code",
   "execution_count": null,
   "metadata": {},
   "outputs": [],
   "source": []
  }
 ],
 "metadata": {
  "kernelspec": {
   "display_name": "Python 3",
   "language": "python",
   "name": "python3"
  },
  "language_info": {
   "codemirror_mode": {
    "name": "ipython",
    "version": 3
   },
   "file_extension": ".py",
   "mimetype": "text/x-python",
   "name": "python",
   "nbconvert_exporter": "python",
   "pygments_lexer": "ipython3",
   "version": "3.7.6"
  }
 },
 "nbformat": 4,
 "nbformat_minor": 4
}
